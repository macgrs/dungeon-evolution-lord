{
 "cells": [
  {
   "cell_type": "markdown",
   "id": "dff5edcd",
   "metadata": {},
   "source": [
    "# PCG Chap 2. Dungeon Crawler"
   ]
  },
  {
   "cell_type": "code",
   "execution_count": null,
   "id": "b0d7ebed",
   "metadata": {},
   "outputs": [],
   "source": [
    "import numpy as np\n",
    "import logging\n",
    "from random import randrange"
   ]
  },
  {
   "cell_type": "code",
   "execution_count": null,
   "id": "792e66b6",
   "metadata": {},
   "outputs": [],
   "source": [
    "def grow_regions(array_map):\n",
    "    if not len(array_map.shape) == 2:\n",
    "        logging.error(f\"Array map shall be 2 dimensional, actual shape is {array_map.shape}\")\n",
    "\n",
    "    nplus_map = np.zeros(array_map.shape)\n",
    "    adj_coords = {(-1, 1), (0, 1), (1, 1), (-1, 0), (1, 0), (-1, -1), (0,-1), (1,-1)}\n",
    "    for x in range(array_map.shape[0]):\n",
    "        for y in range(array_map.shape[1]):\n",
    "            if array_map[x][y] > 0:\n",
    "                nplus_map[x][y] = array_map[x][y]\n",
    "                for dx, dy in adj_coords:\n",
    "                    if 0 <= x+dx < array_map.shape[0] and 0 <= y+dy < array_map.shape[1]:\n",
    "                        if array_map[x+dx][y+dy] == 0:\n",
    "                            nplus_map[x+dx][y+dy] = array_map[x][y]\n",
    "    return nplus_map\n",
    "\n",
    "def get_random_pois(dimension: int, n_pois: int, n_typeof_pois: int):\n",
    "    if n_pois < 3:\n",
    "        raise ValueError(\"number of pois shall be > 3, we Delaunay triangulate pois later\")\n",
    "    return [[randrange(dimension), randrange(dimension), randrange(n_typeof_pois)+2] for n in range(n_pois)]"
   ]
  },
  {
   "cell_type": "code",
   "execution_count": null,
   "id": "34b001ee",
   "metadata": {},
   "outputs": [],
   "source": [
    "dimension = 16\n",
    "array_map = np.zeros((dimension,dimension))\n",
    "random_pois = get_random_pois(dimension=dimension, n_pois=5, n_typeof_pois=5)\n",
    "\n",
    "for poi in random_pois:\n",
    "    array_map[poi[0]][poi[1]] = poi[2]\n",
    "\n",
    "# display(random_pois)\n",
    "display(array_map)"
   ]
  },
  {
   "cell_type": "code",
   "execution_count": null,
   "id": "a04d2bd8",
   "metadata": {},
   "outputs": [],
   "source": [
    "nplusone_array = grow_regions(array_map)\n",
    "# nplusone_array = np.dot(array_map, nplusone_array)\n",
    "nplusone_array"
   ]
  },
  {
   "cell_type": "code",
   "execution_count": null,
   "id": "b6c68420",
   "metadata": {},
   "outputs": [],
   "source": [
    "\n",
    "def line_draw_bresenham(x0,y0,x1,y1):\n",
    "    points_line = []\n",
    "    dx = abs(x1 - x0)\n",
    "    sx = 1 if x0 < x1 else -1\n",
    "    dy = -abs(y1 - y0)\n",
    "    sy = 1 if y0 < y1 else -1\n",
    "    error = dx + dy\n",
    "    while True:\n",
    "        logging.debug(x0, y0)\n",
    "        points_line.append((x0, y0))\n",
    "        e2 = 2 * error\n",
    "        if e2 >= dy:\n",
    "            if x0 == x1:\n",
    "                break\n",
    "            error = error + dy\n",
    "            x0 = x0 + sx\n",
    "        if e2 <= dx:\n",
    "            if y0 == y1:\n",
    "                break\n",
    "            error = error + dx\n",
    "            y0 = y0 + sy\n",
    "    return points_line"
   ]
  },
  {
   "cell_type": "code",
   "execution_count": null,
   "id": "ff0787fe",
   "metadata": {},
   "outputs": [],
   "source": [
    "# from itertools import combinations\n",
    "# for duo in combinations(random_pois, 2):\n",
    "#     print(duo)\n",
    "from scipy.spatial import Delaunay\n",
    "\n",
    "def get_all_points_in_lines(points):\n",
    "    arr = np.asarray(points)\n",
    "    # if not len(arr.shape == 2):\n",
    "    #     return ValueError(f\"Not in a good shape, should be points2D, shape={arr.shape}\")\n",
    "    tri = Delaunay(arr[:,:2])\n",
    "\n",
    "    all_points_of_lines = set()\n",
    "    for i, neighbors in enumerate(tri.neighbors):\n",
    "        all_points_of_lines.add((points[i][0],points[i][1]))\n",
    "        for n in neighbors:\n",
    "            if n == -1:\n",
    "                continue\n",
    "            points_in_line = line_draw_bresenham(points[n][0],points[n][1],points[i][0],points[i][1])\n",
    "            logging.debug(points_in_line)\n",
    "            all_points_of_lines = all_points_of_lines.union(set(points_in_line))\n",
    "    return all_points_of_lines\n",
    "\n",
    "# arr = np.asarray(random_pois)\n",
    "# arr.shape\n",
    "# tri = Delaunay(arr[:,:2])"
   ]
  },
  {
   "cell_type": "code",
   "execution_count": null,
   "id": "2486c4b0",
   "metadata": {},
   "outputs": [],
   "source": [
    "# all_points_of_lines = set()\n",
    "# for i, neighbors in enumerate(tri.neighbors):\n",
    "#     for n in neighbors:\n",
    "#         if n == -1:\n",
    "#             continue\n",
    "#         points_line = line_draw_bresenham(random_pois[n][0],random_pois[n][1],random_pois[i][0],random_pois[i][1])\n",
    "#         logging.debug(points_line)\n",
    "#         all_points_of_lines = all_points_of_lines.union(set(points_line))"
   ]
  },
  {
   "cell_type": "code",
   "execution_count": null,
   "id": "e40c4cb8",
   "metadata": {},
   "outputs": [],
   "source": [
    "paths_map = np.zeros((dimension,dimension))\n",
    "all_points_of_lines=get_all_points_in_lines(random_pois)\n",
    "for p in all_points_of_lines:\n",
    "    paths_map[p[0]][p[1]] = 1\n",
    "paths_map"
   ]
  },
  {
   "cell_type": "code",
   "execution_count": null,
   "id": "75c07bab",
   "metadata": {},
   "outputs": [],
   "source": [
    "myarr = np.asarray(random_pois)\n",
    "up_random_pois=np.dot(myarr[:,:2],2)\n",
    "up_all_points_of_lines=get_all_points_in_lines(up_random_pois)\n",
    "up_paths_map = np.zeros((dimension*2,dimension*2))\n",
    "for p in up_all_points_of_lines:\n",
    "    up_paths_map[p[0]][p[1]] = 1\n",
    "up_paths_map"
   ]
  },
  {
   "cell_type": "code",
   "execution_count": null,
   "id": "365c8fa6",
   "metadata": {},
   "outputs": [],
   "source": [
    "upscaled = np.full(np.dot(nplusone_array.shape, 2), -1)\n",
    "for x in range(array_map.shape[0]):\n",
    "    for y in range(array_map.shape[1]):\n",
    "        upscaled[x*2][y*2] = nplusone_array[x][y]\n",
    "# display(upscaled)\n",
    "\n",
    "upscaled_final=np.copy(upscaled)\n",
    "for x in range(0, dimension*2, 2):\n",
    "    for y in range(0, dimension*2-1):\n",
    "        if upscaled_final[x][y] == -1:\n",
    "            if up_paths_map[x][y] == 1:\n",
    "                upscaled_final[x][y] = 10\n",
    "            if upscaled_final[x][y-1] == upscaled_final[x][y+1]:\n",
    "                # print(f'equal {upscaled_pathed[x][y-1]}')\n",
    "                upscaled_final[x][y] = upscaled_final[x][y-1]\n",
    "\n",
    "for x in range(0, dimension*2-1):\n",
    "    for y in range(dimension*2):\n",
    "        if upscaled_final[x][y] == -1:\n",
    "            if up_paths_map[x][y] == 1:\n",
    "                upscaled_final[x][y] = 10\n",
    "            if upscaled_final[x-1][y] == upscaled_final[x+1][y]:\n",
    "                # print(f'equal {upscaled_pathed[x][y-1]}')\n",
    "                upscaled_final[x][y] = upscaled_final[x-1][y]  \n",
    "\n",
    "upscaled_final"
   ]
  },
  {
   "cell_type": "code",
   "execution_count": null,
   "id": "8c618218",
   "metadata": {},
   "outputs": [],
   "source": [
    "for p in up_random_pois:\n",
    "    upscaled_final[p[0]][p[1]] = upscaled_final[p[0]][p[1]]*10"
   ]
  },
  {
   "cell_type": "code",
   "execution_count": null,
   "id": "76111ad8",
   "metadata": {},
   "outputs": [],
   "source": [
    "upscaled_final"
   ]
  },
  {
   "cell_type": "code",
   "execution_count": null,
   "id": "da04fd19",
   "metadata": {},
   "outputs": [],
   "source": [
    "import matplotlib.pyplot as plt\n",
    "\n",
    "plt.style.use('_mpl-gallery-nogrid')\n",
    "# make data\n",
    "X, Y = np.meshgrid(np.linspace(0, dimension*2), np.linspace(0, dimension*2))\n",
    "Z = upscaled_final\n",
    "\n",
    "# plot\n",
    "fig, ax = plt.subplots()\n",
    "\n",
    "ax.imshow(Z)\n",
    "\n",
    "plt.show()"
   ]
  },
  {
   "cell_type": "code",
   "execution_count": null,
   "id": "47bc29aa",
   "metadata": {},
   "outputs": [],
   "source": []
  }
 ],
 "metadata": {
  "kernelspec": {
   "display_name": "prairie310",
   "language": "python",
   "name": "python3"
  },
  "language_info": {
   "codemirror_mode": {
    "name": "ipython",
    "version": 3
   },
   "file_extension": ".py",
   "mimetype": "text/x-python",
   "name": "python",
   "nbconvert_exporter": "python",
   "pygments_lexer": "ipython3",
   "version": "3.10.17"
  }
 },
 "nbformat": 4,
 "nbformat_minor": 5
}
